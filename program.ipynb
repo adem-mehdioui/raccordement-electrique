{
 "cells": [
  {
   "cell_type": "code",
   "execution_count": 23,
   "metadata": {},
   "outputs": [],
   "source": [
    "import numpy as np\n",
    "import pandas as pd \n",
    "import matplotlib.pyplot as plt\n",
    "\n",
    "# Charger le fichier CSV dans un DataFrame\n",
    "df = pd.read_csv('reseau_en_arbre.csv')\n",
    "\n"
   ]
  },
  {
   "cell_type": "code",
   "execution_count": 51,
   "metadata": {},
   "outputs": [
    {
     "data": {
      "text/html": [
       "<div>\n",
       "<style scoped>\n",
       "    .dataframe tbody tr th:only-of-type {\n",
       "        vertical-align: middle;\n",
       "    }\n",
       "\n",
       "    .dataframe tbody tr th {\n",
       "        vertical-align: top;\n",
       "    }\n",
       "\n",
       "    .dataframe thead th {\n",
       "        text-align: right;\n",
       "    }\n",
       "</style>\n",
       "<table border=\"1\" class=\"dataframe\">\n",
       "  <thead>\n",
       "    <tr style=\"text-align: right;\">\n",
       "      <th></th>\n",
       "      <th>id_batiment</th>\n",
       "      <th>nb_maisons</th>\n",
       "      <th>infra_id</th>\n",
       "      <th>infra_type</th>\n",
       "      <th>longueur</th>\n",
       "    </tr>\n",
       "  </thead>\n",
       "  <tbody>\n",
       "    <tr>\n",
       "      <th>0</th>\n",
       "      <td>E000001</td>\n",
       "      <td>4</td>\n",
       "      <td>P007111</td>\n",
       "      <td>infra_intacte</td>\n",
       "      <td>12.314461</td>\n",
       "    </tr>\n",
       "    <tr>\n",
       "      <th>1</th>\n",
       "      <td>E000001</td>\n",
       "      <td>4</td>\n",
       "      <td>P007983</td>\n",
       "      <td>infra_intacte</td>\n",
       "      <td>40.320929</td>\n",
       "    </tr>\n",
       "    <tr>\n",
       "      <th>2</th>\n",
       "      <td>E000001</td>\n",
       "      <td>4</td>\n",
       "      <td>P000308</td>\n",
       "      <td>infra_intacte</td>\n",
       "      <td>39.140799</td>\n",
       "    </tr>\n",
       "    <tr>\n",
       "      <th>3</th>\n",
       "      <td>E000001</td>\n",
       "      <td>4</td>\n",
       "      <td>P007819</td>\n",
       "      <td>infra_intacte</td>\n",
       "      <td>17.390464</td>\n",
       "    </tr>\n",
       "    <tr>\n",
       "      <th>4</th>\n",
       "      <td>E000002</td>\n",
       "      <td>1</td>\n",
       "      <td>P007111</td>\n",
       "      <td>infra_intacte</td>\n",
       "      <td>12.314461</td>\n",
       "    </tr>\n",
       "  </tbody>\n",
       "</table>\n",
       "</div>"
      ],
      "text/plain": [
       "  id_batiment  nb_maisons infra_id     infra_type   longueur\n",
       "0     E000001           4  P007111  infra_intacte  12.314461\n",
       "1     E000001           4  P007983  infra_intacte  40.320929\n",
       "2     E000001           4  P000308  infra_intacte  39.140799\n",
       "3     E000001           4  P007819  infra_intacte  17.390464\n",
       "4     E000002           1  P007111  infra_intacte  12.314461"
      ]
     },
     "execution_count": 51,
     "metadata": {},
     "output_type": "execute_result"
    }
   ],
   "source": [
    "# Séparation des données\n",
    "df_infra_intacte = df[df['infra_type'] == 'infra_intacte']\n",
    "df_a_remplacer = df[df['infra_type'] == 'a_remplacer']\n",
    "\n",
    "df.head()"
   ]
  },
  {
   "cell_type": "code",
   "execution_count": 25,
   "metadata": {},
   "outputs": [
    {
     "name": "stdout",
     "output_type": "stream",
     "text": [
      "\n",
      "DataFrame pour infra_intacte :\n",
      "\n",
      "      id_batiment  nb_maisons infra_id     infra_type   longueur\n",
      "0        E000001           4  P007111  infra_intacte  12.314461\n",
      "1        E000001           4  P007983  infra_intacte  40.320929\n",
      "2        E000001           4  P000308  infra_intacte  39.140799\n",
      "3        E000001           4  P007819  infra_intacte  17.390464\n",
      "4        E000002           1  P007111  infra_intacte  12.314461\n",
      "...          ...         ...      ...            ...        ...\n",
      "6095     E000381           1  P000335  infra_intacte  27.889780\n",
      "6096     E000381           1  P000211  infra_intacte   7.712183\n",
      "6097     E000381           1  P000226  infra_intacte  49.112131\n",
      "6098     E000381           1  P000023  infra_intacte  11.338971\n",
      "6099     E000381           1  P000136  infra_intacte  12.326395\n",
      "\n",
      "[5530 rows x 5 columns]\n",
      "\n",
      "DataFrame pour a_remplacer :\n",
      "\n",
      "      id_batiment  nb_maisons infra_id   infra_type   longueur\n",
      "10       E000003           1  P007113  a_remplacer  12.193509\n",
      "11       E000003           1  P007984  a_remplacer  30.057598\n",
      "12       E000003           1  P007823  a_remplacer  12.290283\n",
      "465      E000067           1  P006193  a_remplacer  12.186388\n",
      "466      E000067           1  P002851  a_remplacer  10.803202\n",
      "...          ...         ...      ...          ...        ...\n",
      "6102     E000381           1  P008032  a_remplacer  10.520975\n",
      "6103     E000381           1  P008035  a_remplacer  11.719759\n",
      "6104     E000381           1  P004234  a_remplacer  13.484903\n",
      "6105     E000381           1  P008036  a_remplacer   7.441760\n",
      "6106     E000381           1  P007459  a_remplacer   9.865358\n",
      "\n",
      "[577 rows x 5 columns]\n"
     ]
    }
   ],
   "source": [
    "# Affichage des deux Df\n",
    "print(\"\\nDataFrame pour infra_intacte :\\n\\n\", df_infra_intacte)\n",
    "print(\"\\nDataFrame pour a_remplacer :\\n\\n\", df_a_remplacer)"
   ]
  },
  {
   "cell_type": "code",
   "execution_count": 54,
   "metadata": {},
   "outputs": [
    {
     "name": "stdout",
     "output_type": "stream",
     "text": [
      "     id_batiment  difficulte_batiment\n",
      "5784     E000370             6.469102\n",
      "5790     E000370             6.469102\n",
      "5789     E000370             6.469102\n",
      "5788     E000370             6.469102\n",
      "5787     E000370             6.469102\n",
      "...          ...                  ...\n",
      "11       E000003            18.180463\n",
      "10       E000003            18.180463\n",
      "1094     E000129            19.905193\n",
      "1092     E000129            19.905193\n",
      "1093     E000129            19.905193\n",
      "\n",
      "[577 rows x 2 columns]\n"
     ]
    }
   ],
   "source": [
    "\"\"\"\n",
    "Sachant que:\n",
    "\n",
    "Difficulté(infra) = longueur / nombre de maison qu’elle permet de raccorder)\n",
    "Difficulté(batîment) = somme(difficultés des infras qui permettent de le raccorder )\n",
    "\n",
    "\"\"\"\n",
    "\n",
    "# Calculer la difficulté pour chaque infrastructure\n",
    "def calculer_difficulte_infra(infra):\n",
    "    return infra['longueur'] / infra['nb_maisons']\n",
    "\n",
    "# Calculer la difficulté pour chaque bâtiment\n",
    "def calculer_difficulte_batiment(row):\n",
    "    infra_a_remplacer_batiment = df_a_remplacer[df_a_remplacer['id_batiment'] == row['id_batiment']]\n",
    "    \n",
    "    # Vérifier si la longueur est non nulle; parce qu'il me dit : RuntimeWarning: invalid value encountered in scalar divide\" ce qui montre qu'il y a une division par zéro\n",
    "    if len(infra_a_remplacer_batiment) > 0:\n",
    "        difficulte_batiment = infra_a_remplacer_batiment['longueur'].sum() / len(infra_a_remplacer_batiment)\n",
    "    else:\n",
    "        difficulte_batiment = 0\n",
    "    \n",
    "    return difficulte_batiment\n",
    "\n",
    "df['difficulte_batiment'] = df.apply(calculer_difficulte_batiment, axis=1)\n",
    "\n",
    "# Classer les bâtiments en ordre croissant de difficulté\n",
    "batiments_classes = df[df['infra_type'] == 'a_remplacer'].sort_values(by='difficulte_batiment', ascending=True)\n",
    "\n",
    "# Afficher les résultats\n",
    "print(batiments_classes[['id_batiment', 'difficulte_batiment']])"
   ]
  },
  {
   "cell_type": "code",
   "execution_count": null,
   "metadata": {},
   "outputs": [],
   "source": []
  }
 ],
 "metadata": {
  "kernelspec": {
   "display_name": "venv",
   "language": "python",
   "name": "python3"
  },
  "language_info": {
   "codemirror_mode": {
    "name": "ipython",
    "version": 3
   },
   "file_extension": ".py",
   "mimetype": "text/x-python",
   "name": "python",
   "nbconvert_exporter": "python",
   "pygments_lexer": "ipython3",
   "version": "3.11.7"
  }
 },
 "nbformat": 4,
 "nbformat_minor": 2
}
